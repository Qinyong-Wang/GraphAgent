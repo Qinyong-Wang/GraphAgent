{
 "cells": [
  {
   "cell_type": "markdown",
   "id": "17f33ca5",
   "metadata": {},
   "source": [
    "# load pre-generated  and sampled node text and similar node examples"
   ]
  },
  {
   "cell_type": "code",
   "execution_count": 15,
   "id": "b4592877",
   "metadata": {},
   "outputs": [],
   "source": [
    "import json\n",
    "import random\n",
    "\n",
    "filename = '../dataset/pubmed_prompt.json'\n",
    "with open(filename, 'r') as f:\n",
    "    pubmed = json.load(f)\n"
   ]
  },
  {
   "cell_type": "code",
   "execution_count": 16,
   "id": "4d6dc187",
   "metadata": {
    "scrolled": true
   },
   "outputs": [
    {
     "name": "stdout",
     "output_type": "stream",
     "text": [
      "id :\n",
      "8\n",
      "\n",
      "\n",
      "lable :\n",
      "Type 2 diabetes\n",
      "\n",
      "\n",
      "sample_text :\n",
      "{\"id\": 8, \"title\": \"Exenatide versus insulin glargine in patients with suboptimally controlled type 2 diabetes: a randomized trial.\", \"category\": \"Masked\", \"author\": [\"Heine RJ\", \"Van Gaal LF\", \"Johns D\", \"Mihm MJ\", \"Widel MH\", \"Brodows RG\"], \"abstract\": \"BACKGROUND: Physicians may use either insulin or exenatide injections for patients with type 2 diabetes mellitus who have poor glycemic control despite taking oral blood glucose-lowering drugs. OBJECTIVE: To compare effects of exenatide and insulin glargine on glycemic control in patients with type 2 diabetes mellitus that is suboptimally controlled with metformin and a sulfonylurea. DESIGN: 26-week multicenter, open-label, randomized, controlled trial. SETTING: 82 outpatient study centers in 13 countries. PATIENTS: 551 patients with type 2 diabetes and inadequate glycemic control (defined as hemoglobin A1c level ranging from 7.0% to 10.0%) despite combination metformin and sulfonylurea therapy. INTERVENTION: Exenatide, 10 microg twice daily, or insulin glargine, 1 daily dose titrated to maintain fasting blood glucose levels of less than 5.6 mmol/L (<100 mg/dL). MEASUREMENTS: Hemoglobin A1c level, fasting plasma glucose level, body weight, 7-point self-monitored blood glucose, standardized test-meal challenge, safety, and tolerability. RESULTS: Baseline mean hemoglobin A1c level was 8.2% for patients receiving exenatide and 8.3% for those receiving insulin glargine. At week 26, both exenatide and insulin glargine reduced hemoglobin A1c levels by 1.11% (difference, 0.017 percentage point [95% CI, -0.123 to 0.157 percentage point]). Exenatide reduced postprandial glucose excursions more than insulin glargine, while insulin glargine reduced fasting glucose concentrations more than exenatide. Body weight decreased 2.3 kg with exenatide and increased 1.8 kg with insulin glargine (difference, -4.1 kg [CI, -4.6 to -3.5 kg]). Rates of symptomatic hypoglycemia were similar, but nocturnal hypoglycemia occurred less frequently with exenatide (0.9 event/patient-year versus 2.4 events/patient-year; difference, -1.6 events/patient-year [CI, -2.3 to -0.9 event/patient year]). Gastrointestinal symptoms were more common in the exenatide group than in the insulin glargine group, including nausea (57.1% vs. 8.6%), vomiting (17.4% vs. 3.7%) and diarrhea (8.5% vs. 3.0%). LIMITATIONS: The trial was open-label and did not assess clinical complications related to diabetes. Of the 551 participants, 19.4% of those receiving exenatide and 9.7% of those receiving insulin glargine withdrew from the study. Only 21.6% of the insulin glargine group and 8.6% of the exenatide group achieved the target level for fasting plasma glucose of less than 5.6 mmol/L (<100 mg/dL). CONCLUSIONS: Exenatide and insulin glargine achieved similar improvements in overall glycemic control in patients with type 2 diabetes that was suboptimally controlled with oral combination therapy. Exenatide was associated with weight reduction and had a higher incidence of gastrointestinal adverse effects than insulin glargine.\", \"1_hop_neighbors\": [{\"id\": 15974, \"title\": \"Incretin-based therapies in type 2 diabetes mellitus.\", \"category\": \"Type 2 diabetes\", \"author\": [\"Chia CW\", \"Egan JM\"]}, {\"id\": 18109, \"title\": \"Insulin analogs or premixed insulin analogs in combination with oral agents for treatment of type 2 diabetes.\", \"category\": \"Type 2 diabetes\", \"author\": [\"Levy P\"]}, {\"id\": 187, \"title\": \"Overview of glucagon-like peptide-1 analogs and dipeptidyl peptidase-4 inhibitors for type 2 diabetes.\", \"category\": \"Type 2 diabetes\", \"author\": [\"Pratley RE\"]}, {\"id\": 3139, \"title\": \"Patient-reported outcomes in a trial of exenatide and insulin glargine for the treatment of type 2 diabetes.\", \"category\": \"Type 2 diabetes\", \"author\": [\"Secnik Boye K\", \"Matza LS\", \"Oglesby A\", \"Malley K\", \"Kim S\", \"Hayes RP\", \"Brodows R\"]}, {\"id\": 2408, \"title\": \"Metabolic effects of the incretin mimetic exenatide in the treatment of type 2 diabetes.\", \"category\": \"Type 2 diabetes\", \"author\": [\"Schnabel CA\", \"Wintle M\", \"Kolterman O\"]}, {\"id\": 17521, \"title\": \"Evaluation of the cost effectiveness of exenatide versus insulin glargine in patients with sub-optimally controlled type 2 diabetes in the United Kingdom.\", \"category\": \"Type 2 diabetes\", \"author\": [\"Woehl A\", \"Evans M\", \"Tetlow AP\", \"McEwan P\"]}, {\"id\": 15445, \"title\": \"Overcoming barriers to glycemic control in African Americans with type-2 diabetes: benefits of insulin therapy.\", \"category\": \"Type 2 diabetes\", \"author\": [\"Marshall MC Jr\"]}, {\"id\": 13618, \"title\": \"Effect of interactions between C peptide levels and insulin treatment on clinical outcomes among patients with type 2 diabetes mellitus.\", \"category\": \"Type 2 diabetes\", \"author\": [\"Ko GT\", \"So WY\", \"Tong PC\", \"Chan WB\", \"Yang X\", \"Ma RC\", \"Kong AP\", \"Ozaki R\", \"Yeung CY\", \"Chow CC\", \"Chan JC\"]}]}\n",
      "\n",
      "\n",
      "similar_examples :\n",
      "{\"id\": 2328, \"title\": \"Regulation of glucose transporter messenger RNA in insulin-deficient states.\", \"category\": \"Experimentally induced diabetes\", \"author\": [\"Sivitz WI\", \"DeSautel SL\", \"Kayano T\", \"Bell GI\", \"Pessin JE\"], \"abstract\": \"Recent studies have indicated that a family of structurally related proteins with distinct but overlapping tissue distributions are responsible for facilitative glucose transport in mammalian tissues. Insulin primarily stimulates glucose transport by inducing the redistribution of a unique glucose transporter protein from an intracellular pool to the plasma membrane. This 509-amino-acid integral membrane protein, termed GLUT-4, is the main insulin-responsive glucose transporter in adipose and muscle tissues. We have observed a dramatic decrease (tenfold) in the steady-state levels of GLUT-4 messenger RNA in adipose tissue from fasted rats or rats made insulin deficient with streptozotocin. Insulin treatment of the streptozotocin-diabetic rats or refeeding the fasted animals causes a rapid recovery of the GLUT-4 mRNA to levels significantly above those observed in untreated control animals. By contrast, the levels of the erythrocyte/HepG2/rat brain-type glucose transporter mRNA remain essentially unchanged under these conditions. These data suggest that the in vivo expression of GLUT-4 mRNA in rat adipose tissue is regulated by insulin.\", \"1_hop_neighbors\": [{\"id\": 2504, \"title\": \"Decreased in vivo glucose uptake but normal expression of GLUT1 and GLUT4 in skeletal muscle of diabetic rats.\", \"category\": \"Experimentally induced diabetes\", \"author\": [\"Kahn BB\", \"Rossetti L\", \"Lodish HF\", \"Charron MJ\"]}, {\"id\": 12012, \"title\": \"Normalization of blood glucose in diabetic rats with phlorizin treatment reverses insulin-resistant glucose transport in adipose cells without restoring glucose transporter gene expression.\", \"category\": \"Experimentally induced diabetes\", \"author\": [\"Kahn BB\", \"Shulman GI\", \"DeFronzo RA\", \"Cushman SW\", \"Rossetti L\"]}, {\"id\": 18831, \"title\": \"Effect of diabetes and fasting on GLUT-4 (muscle/fat) glucose-transporter expression in insulin-sensitive tissues. Heterogeneous response in heart, red and white muscle.\", \"category\": \"Experimentally induced diabetes\", \"author\": [\"Camps M\", \"Castello A\", \"Munoz P\", \"Monfar M\", \"Testar X\", \"Palacin M\", \"Zorzano A\"]}, {\"id\": 18839, \"title\": \"Pretranslational suppression of a glucose transporter protein causes insulin resistance in adipocytes from patients with non-insulin-dependent diabetes mellitus and obesity.\", \"category\": \"Type 2 diabetes\", \"author\": [\"Garvey WT\", \"Maianu L\", \"Huecksteadt TP\", \"Birnbaum MJ\", \"Molina JM\", \"Ciaraldi TP\"]}, {\"id\": 1791, \"title\": \"Reduced expression of the liver/beta-cell glucose transporter isoform in glucose-insensitive pancreatic beta cells of diabetic rats.\", \"category\": \"Experimentally induced diabetes\", \"author\": [\"Thorens B\", \"Weir GC\", \"Leahy JL\", \"Lodish HF\", \"Bonner-Weir S\"]}, {\"id\": 16638, \"title\": \"Effects of altered glucose homeostasis on glucose transporter expression in skeletal muscle of the rat.\", \"category\": \"Experimentally induced diabetes\", \"author\": [\"Bourey RE\", \"Koranyi L\", \"James DE\", \"Mueckler M\", \"Permutt MA\"]}, {\"id\": 14421, \"title\": \"Evidence that GLUT-2 mRNA and protein concentrations are decreased by hyperinsulinaemia and increased by hyperglycaemia in liver of diabetic rats.\", \"category\": \"Experimentally induced diabetes\", \"author\": [\"Burcelin R\", \"Eddouks M\", \"Kande J\", \"Assan R\", \"Girard J\"]}]}\n",
      "\n",
      "{\"id\": 1575, \"title\": \"Intracellular calcium and hydrogen ions in diabetes mellitus.\", \"category\": \"Experimentally induced diabetes\", \"author\": [\"Okorodudu AO\", \"Adegboyega PA\", \"Scholz CI\"], \"abstract\": \"Diabetes mellitus is a multi-component syndrome that is often complicated by angiopathy which is partly due to enhanced platelet functions. Using fluorescent dyes 2',7'-bis(carboxyethyl)-5(6)-carboxyfluorescein (BCECF) and Fura-2 AM, changes was evaluated in the concentration of baseline and thrombin-stimulated increases in intracellular ionized calcium (Ca2+i) relative to hydrogen ions in the platelets from control, insulin-treated, and non-treated diabetic rats. The cytosol of platelets from the diabetic rats were more acidic compared to the insulin-treated and normal control rats. The increased intracellular hydrogen ion concentration [H+] or decreased pH (pH) in the diabetic rat platelets is associated with an increased baseline [Ca2+]i. Upon stimulation with thrombin, the mean peak [Ca2+]i for the insulin-treated (309 +/- 97 nmol/L) and untreated (339 +/- 135 nmol/L) diabetic rats was significantly higher than the concentration for the normal rats (213 +/- 101 nmol/L). Treatment with insulin attempts to correct the diabetes-induced elevation in the baseline of [Ca2+]i and intracellular H+. These results suggest that the relationships between Ca2+ and H+ relative to binding sites are similar in the intra- and extracellular compartments. It is our conclusion that the enhanced platelet activity and associated development of vascular diseases in diabetes may be due to an increased intracellular H+ that caused an increased baseline [Ca2+]i in diabetes mellitus.\", \"1_hop_neighbors\": [{\"id\": 2813, \"title\": \"Isoforms of endoplasmic reticulum Ca(2+)-ATPase are differentially expressed in normal and diabetic islets of Langerhans.\", \"category\": \"Experimentally induced diabetes\", \"author\": [\"Varadi A\", \"Molnar E\", \"Ostenson CG\", \"Ashcroft SJ\"]}]}\n",
      "\n",
      "{\"id\": 2085, \"title\": \"Renal and cardiovascular protection in type 2 diabetes mellitus: angiotensin II receptor blockers.\", \"category\": \"Type 2 diabetes\", \"author\": [\"Deferrari G\", \"Ravera M\", \"Deferrari L\", \"Vettoretti S\", \"Ratto E\", \"Parodi D\"], \"abstract\": \"Aggressive treatment of hypertension is effective in reducing both microvascular and macrovascular complications in type 2 diabetes, and target BP less than 130/85 or 130/80 mmHg are now recommended. Inhibition of renin angiotensin aldosterone system (RAAS) plays an essential role in the treatment of hypertension and diabetes-related complications. Studies focusing on renal end-points suggest that angiotensin-converting enzyme inhibitors (ACE-I) are more effective than other traditional agents in reducing the onset of clinical proteinuria in both type 1 and type 2 diabetic patients with incipient nephropathy, mainly in normotensive ones (secondary prevention). However, several small trials in type 2 diabetic patients with overt nephropathy (tertiary prevention) failed to demonstrate a specific renoprotective role for ACE-I, at variance with type 1 diabetes. Three recent large trials address the question of whether angiotensin II receptor blockers (ARB) prevent the development of clinical proteinuria or delay the progression of nephropathy in type 2 diabetes. The IRMA study showed that irbesartan is more effective than conventional therapy in preventing the development of clinical proteinuria and in favoring the regression to normoalbuminuria for comparable BP control in patients with incipient nephropathy. The IDNT and RENAAL trials showed that ARB are more effective than traditional antihypertensive therapies in reducing progression toward end-stage renal failure (ESRF) in type 2 diabetic patients with overt nephropathy independently of changes in BP. Moreover, a reduction in hospitalizations for heart failure was demonstrated for ARB-treated patients compared with placebo. Furthermore, the LIFE study showed that losartan is more effective than conventional therapy in reducing cardiovascular morbidity and mortality in a cohort of diabetic patients with hypertension and left ventricular hypertrophy. In conclusion, ARB seem to be effective in both preventing renal damage and reducing progression toward ESRF in type 2 diabetic patients. Thus, the guidelines for the prevention and treatment of diabetic nephropathy are now changed. In type 1 diabetes ACE-I are the first-choice drug; in type 2 diabetes, ARB are considered first-choice drugs in secondary prevention as well as ACE-I and have been now elected the unique first-choice drug in tertiary prevention of ESRF. Finally, ARB should be considered as the first-choice drug in cardiovascular prevention too, as well as ACE-I.\", \"1_hop_neighbors\": [{\"id\": 12144, \"title\": \"Temporary angiotensin II blockade at the prediabetic stage attenuates the development of renal injury in type 2 diabetic rats.\", \"category\": \"Type 2 diabetes\", \"author\": [\"Nagai Y\", \"Yao L\", \"Kobori H\", \"Miyata K\", \"Ozawa Y\", \"Miyatake A\", \"Yukimura T\", \"Shokoji T\", \"Kimura S\", \"Kiyomoto H\", \"Kohno M\", \"Abe Y\", \"Nishiyama A\"]}]}\n",
      "\n",
      "{\"id\": 2608, \"title\": \"Inhibition of p38 mitogen-activated protein kinase attenuates left ventricular dysfunction by mediating pro-inflammatory cardiac cytokine levels in a mouse model of diabetes mellitus.\", \"category\": \"Experimentally induced diabetes\", \"author\": [\"Westermann D\", \"Rutschow S\", \"Van Linthout S\", \"Linderer A\", \"Bucker-Gartner C\", \"Sobirey M\", \"Riad A\", \"Pauschinger M\", \"Schultheiss HP\", \"Tschope C\"], \"abstract\": \"AIMS/HYPOTHESIS: We investigated the effect of SB 203580, a pharmacological inhibitor of p38 mitogen-activated protein kinase (MAPK), on cardiac inflammation, cardiac fibrosis, and left ventricular function using an animal model of diabetic cardiomyopathy. MATERIALS AND METHODS: Diabetes mellitus was induced by streptozotocin (50 mg/kg i.p. for 5 days) in 20 C57/BL6J mice. Diabetic mice were treated daily with the p38 MAPK inhibitor SB 203580 (1 mg/kg daily, n=10) or with placebo (n=10) and were compared to non-diabetic controls. Left ventricular function was measured by pressure-volume loops after 8 weeks of diabetes mellitus. The parameters for systolic function were the end systolic pressure-volume relationship (ESPVR) and the left ventricular end systolic pressure. The parameters for diastolic function were the left ventricular end diastolic pressure and the end diastolic pressure-volume relationship (EDPVR). Cardiac tissue was analysed by ELISA for the protein content of the cytokines TNF-alpha, IL6, IL1-beta, and TGF-beta1. Phosphorylation of MAPK p38 was analysed by western blot, and the total cardiac collagen content was analysed by Sirius red staining. RESULTS: Left ventricular dysfunction was documented by impaired ESPVR and EDPVR. Cardiac cytokine levels and cardiac fibrosis were increased in diabetic animals compared to controls. Treatment with the p38 inhibitor normalised cardiac cytokine levels and improved systolic function, but did not change cardiac fibrosis and diastolic dysfunction compared to placebo. CONCLUSIONS/INTERPRETATION: Pharmacological inhibition of p38 MAPK prevents cardiac inflammation and attenuates left ventricular dysfunction in diabetic cardiomyopathy.\", \"1_hop_neighbors\": [{\"id\": 19508, \"title\": \"Propagation of the cardiac impulse in the diabetic rat heart: reduced conduction reserve.\", \"category\": \"Experimentally induced diabetes\", \"author\": [\"Nygren A\", \"Olson ML\", \"Chen KY\", \"Emmett T\", \"Kargacin G\", \"Shimoni Y\"]}, {\"id\": 5819, \"title\": \"Intracellular angiotensin II production in diabetic rats is correlated with cardiomyocyte apoptosis, oxidative stress, and cardiac fibrosis.\", \"category\": \"Experimentally induced diabetes\", \"author\": [\"Singh VP\", \"Le B\", \"Khode R\", \"Baker KM\", \"Kumar R\"]}]}\n",
      "\n",
      "{\"id\": 2065, \"title\": \"Effect of pregnancy on microvascular complications in the diabetes control and complications trial. The Diabetes Control and Complications Trial Research Group.\", \"category\": \"Type 1 diabetes\", \"author\": \"NA\", \"abstract\": \"OBJECTIVE: To assess the effect of pregnancy on the development and progression of retinopathy and microalbuminuria in type 1 diabetes. RESEARCH DESIGN AND METHODS: We conducted longitudinal analyses of the Diabetes Control and Complications Trial (DCCT), a multicenter controlled clinical trial that compared intensive treatment with conventional diabetes therapy and studied 180 women who had 270 pregnancies and 500 women who did not become pregnant during an average of 6.5 years of follow-up. Women assigned to the conventional treatment group were changed to intensive therapy if they were planning pregnancy or as soon as possible after conception. Fundus photography was performed every 6 months, and the urinary albumin excretion rate (AER) was measured annually. RESULTS: Compared with nonpregnant women, pregnant women had a 1.63-fold greater risk of any worsening of retinopathy from before to during pregnancy (P < 0.05) in the intensive treatment group; the risk was 2.48-fold greater for pregnant vs. not pregnant women in the conventional group (P < 0.001). In the conventional group, the odds of > or =3-step progression from the baseline retinopathy level was >2.9-fold among pregnant vs. not pregnant women (P = 0.003). The odds ratio (OR) peaked during the second trimester (OR = 4.26, P = 0.001) and persisted as long as 12 months postpregnancy (OR = 2.87, P = 0.005). The level of AER during pregnancy in the intensive group, but not in the conventional group, was significantly elevated from the level at baseline, albeit in the normal range. Although individual patients had transient worsening of retinopathy during pregnancy, even to the proliferative level, at the end of the DCCT, mean levels of retinopathy and albuminuria in subjects who had become pregnant were similar to those in subjects who had not become pregnant within each treatment group. CONCLUSIONS: Pregnancy in type 1 diabetes induces a transient increase in the risk of retinopathy; increased ophthalmologic surveillance is needed during pregnancy and the first year postpartum. The long-term risk of progression of early retinopathy and albumin excretion, however, does not appear to be increased by pregnancy.\", \"1_hop_neighbors\": [{\"id\": 16517, \"title\": \"The effect of intensive treatment of diabetes on the development and progression of long-term complications in insulin-dependent diabetes mellitus.\", \"category\": \"Type 1 diabetes\", \"author\": [\"Nathan DM\", \"Genuth S\", \"Lachin J\", \"Cleary P\", \"Crofford O\", \"Davis M\", \"Rand L\", \"Siebert C\"]}, {\"id\": 3997, \"title\": \"A1C variability and the risk of microvascular complications in type 1 diabetes: data from the Diabetes Control and Complications Trial.\", \"category\": \"Type 1 diabetes\", \"author\": [\"Kilpatrick ES\", \"Rigby AS\", \"Atkin SL\"]}, {\"id\": 4353, \"title\": \"Regional brain activation during hypoglycemia in type 1 diabetes.\", \"category\": \"Type 1 diabetes\", \"author\": [\"Musen G\", \"Simonson DC\", \"Bolo NR\", \"Driscoll A\", \"Weinger K\", \"Raji A\", \"Theberge J\", \"Renshaw PF\", \"Jacobson AM\"]}, {\"id\": 4587, \"title\": \"Rapid tightening of blood glucose control leads to transient deterioration of retinopathy in insulin dependent diabetes mellitus: the Oslo study.\", \"category\": \"Type 1 diabetes\", \"author\": [\"Dahl-Jorgensen K\", \"Brinchmann-Hansen O\", \"Hanssen KF\", \"Sandvik L\", \"Aagenaes O\"]}, {\"id\": 15760, \"title\": \"Connective tissue growth factor and susceptibility to renal and vascular disease risk in type 1 diabetes.\", \"category\": \"Type 1 diabetes\", \"author\": [\"Jaffa AA\", \"Usinger WR\", \"McHenry MB\", \"Jaffa MA\", \"Lipstiz SR\", \"Lackland D\", \"Lopes-Virella M\", \"Luttrell LM\", \"Wilson PW\"]}, {\"id\": 2912, \"title\": \"Metabolic control and progression of retinopathy. The Diabetes in Early Pregnancy Study. National Institute of Child Health and Human Development Diabetes in Early Pregnancy Study.\", \"category\": \"Type 1 diabetes\", \"author\": [\"Chew EY\", \"Mills JL\", \"Metzger BE\", \"Remaley NA\", \"Jovanovic-Peterson L\", \"Knopp RH\", \"Conley M\", \"Rand L\", \"Simpson JL\", \"Holmes LB\", \"et al.\"]}, {\"id\": 16453, \"title\": \"Pregnancy outcomes in the Diabetes Control and Complications Trial.\", \"category\": \"Type 1 diabetes\", \"author\": \"NA\"}, {\"id\": 8172, \"title\": \"Effect of pregnancy on progression of diabetic retinopathy.\", \"category\": \"Type 1 diabetes\", \"author\": [\"Klein BE\", \"Moss SE\", \"Klein R\"]}]}\n",
      "\n",
      "\n",
      "\n",
      "\n",
      "\n"
     ]
    }
   ],
   "source": [
    "for key in pubmed[\"8\"]:\n",
    "    print(key, \":\")\n",
    "    print(pubmed[\"8\"][key])\n",
    "    print(\"\\n\")"
   ]
  },
  {
   "cell_type": "markdown",
   "id": "c9a06d21",
   "metadata": {},
   "source": [
    "# Inference\n",
    "insert your openai.api_key\n",
    "or you can revise the get_completion funtion so that you can use other LLMs"
   ]
  },
  {
   "cell_type": "code",
   "execution_count": 25,
   "id": "4b5378e2",
   "metadata": {},
   "outputs": [],
   "source": [
    "import openai\n",
    "#model=\"gpt-3.5-turbo-16k\" \n",
    "#model=\"gpt-4\" \n",
    "model=\"gpt-4-1106-preview\"\n",
    "openai.organization = \"\"\n",
    "openai.api_key = \"\"\n",
    "s\n",
    "def get_completion(prompt, model=model):    \n",
    "    messages = [{\"role\": \"user\", \"content\": prompt}]\n",
    "    response = openai.ChatCompletion.create(\n",
    "        model=model,\n",
    "        messages=messages,\n",
    "        temperature=0.1, # this is the degree of randomness of the model's output\n",
    "    )\n",
    "    return response.choices[0].message[\"content\"]"
   ]
  },
  {
   "cell_type": "code",
   "execution_count": 26,
   "id": "e9f82e5b",
   "metadata": {},
   "outputs": [],
   "source": [
    "def get_inductive_prompt(similar_examples):\n",
    "    \n",
    "    prompt = similar_examples\n",
    "    prompt += \"\\n\"\n",
    "    prompt += f\"\"\"\n",
    "        You are a medical expert. For the given example and your own knowledges. \n",
    "        Can you find some reasons that why each paper falls into its category. Only briefly list the reasons\n",
    "        \"\"\"\n",
    "    return prompt\n",
    "\n",
    "\n",
    "def get_deductive_prompt(sample_text, similar_examples, reasons):\n",
    "    prompt = \"Examples: \\n\"\n",
    "    prompt += similar_examples\n",
    "    prompt += \"Reasons: \\n\"\n",
    "    prompt += reasons\n",
    "    prompt += \"\\n\"\n",
    "    prompt += \"Target Paper: \\n\"\n",
    "    prompt += sample_text + \"\\n\"\n",
    "    prompt += \"\"\"\n",
    "    the \"Target Paper\" should be in one of which category blow?\n",
    "    1:'Experimentally induced diabetes',\n",
    "    2:'Type 1 diabetes',\n",
    "    3:'Type 2 diabetes',\n",
    "        \n",
    "        \n",
    "    Based on the reasons and examples, think step by step and print reasoning process, \n",
    "    then choose the category name.\n",
    "    output all prediction and reasoning in json format:\n",
    "    {\n",
    "        reasoning:, \n",
    "        prediction: \n",
    "    }\n",
    "    \"\"\"\n",
    "    prompt += '\\n'\n",
    "    return prompt"
   ]
  },
  {
   "cell_type": "code",
   "execution_count": 28,
   "id": "7fa1f511",
   "metadata": {
    "scrolled": false
   },
   "outputs": [],
   "source": [
    "cnt = 0\n",
    "tp = 0\n",
    "verbose = False\n",
    "data = pubmed\n",
    "\n",
    "for idx in data:\n",
    "    print(\"reasoning on sample:\" , idx)\n",
    "    sample = data[idx]\n",
    "    similar_examples = sample[\"similar_examples\"]\n",
    "    \n",
    "    inductive_prompt = get_inductive_prompt(similar_examples)\n",
    "    reasons = get_completion(inductive_prompt)\n",
    "    sample_text = sample[\"sample_text\"]\n",
    "    deductive_prompt = get_deductive_prompt(sample_text, similar_examples, reasons)\n",
    "    res = get_completion(deductive_prompt)\n",
    "\n",
    "    if model == \"gpt-3.5-turbo-16k\":\n",
    "        json_string = json.loads(res)\n",
    "    elif model == \"gpt-4-1106-preview\":\n",
    "        start = res.find(\"json\") + len(\"json\")\n",
    "        end = res.find(\"```\", start)\n",
    "        json_string = res[start:end].strip()\n",
    "        res_dict = json.loads(json_string)\n",
    "    \n",
    "    if verbose:\n",
    "        #print(\"similar_examples: \\n\", similar_examples, \"\\n\")\n",
    "        #print(\"reasons: \\n\", reasons, \"\\n\")\n",
    "        print(\"deductive_prompt: \\n\",deductive_prompt, \"\\n\")\n",
    "        print(\"result: \\n\", res, \"\\n\")\n",
    "        print(\"json_result: \\n\", res_dict, \"\\n\")\n",
    "        print(\"lable:\", sample[\"lable\"],\"\\n\")\n",
    "        print(\"===========================================\")\n",
    "    \n",
    "    if res_dict[\"prediction\"] == sample[\"lable\"]:\n",
    "        tp += 1\n",
    "    cnt += 1"
   ]
  },
  {
   "cell_type": "code",
   "execution_count": 19,
   "id": "fbde69e0",
   "metadata": {},
   "outputs": [
    {
     "data": {
      "text/plain": [
       "1.0"
      ]
     },
     "execution_count": 19,
     "metadata": {},
     "output_type": "execute_result"
    }
   ],
   "source": [
    "tp/cnt"
   ]
  },
  {
   "cell_type": "code",
   "execution_count": null,
   "id": "3f8a9023",
   "metadata": {},
   "outputs": [],
   "source": []
  }
 ],
 "metadata": {
  "kernelspec": {
   "display_name": "Python 3 (ipykernel)",
   "language": "python",
   "name": "python3"
  },
  "language_info": {
   "codemirror_mode": {
    "name": "ipython",
    "version": 3
   },
   "file_extension": ".py",
   "mimetype": "text/x-python",
   "name": "python",
   "nbconvert_exporter": "python",
   "pygments_lexer": "ipython3",
   "version": "3.11.4"
  }
 },
 "nbformat": 4,
 "nbformat_minor": 5
}
